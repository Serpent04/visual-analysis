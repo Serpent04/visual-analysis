{
  "cells": [
    {
      "cell_type": "markdown",
      "metadata": {
        "id": "o58Ts_wbTsUb"
      },
      "source": [
        "# Airline Analysis"
      ]
    },
    {
      "cell_type": "markdown",
      "metadata": {
        "id": "yE9JcgDpTsUd"
      },
      "source": [
        "The data include:\n",
        "- `miles`: miles traveled through the flight\n",
        "- `passengers`: number of passengers on the flight\n",
        "- `delay`: take-off delay in minutes\n",
        "- `inflight_meal`: is there a meal included in the flight?\n",
        "- `inflight_entertainment`: are there free entertainment systems for each seat?\n",
        "- `inflight_wifi`: is there complimentary wifi on the flight?\n",
        "- `day_of_week`: day of the week of the flight\n",
        "- `weekend`: did this flight take place on a weekend?\n",
        "- `coach_price`: the average price paid for a coach ticket\n",
        "- `firstclass_price`: the average price paid for first-class seats\n",
        "- `hours`: how many hours the flight took\n",
        "- `redeye`: was this flight a redeye (overnight)?\n",
        "\n"
      ]
    },
    {
      "cell_type": "markdown",
      "metadata": {
        "id": "zifQcWM0TsUe"
      },
      "source": [
        "## Univariate Analysis"
      ]
    },
    {
      "cell_type": "markdown",
      "metadata": {
        "id": "LKOMLP-oTsUe"
      },
      "source": [
        "1. What do coach ticket prices look like? What are the high and low values? What would be considered the average? Does $500 seem like a good price for a coach ticket?"
      ]
    },
    {
      "cell_type": "code",
      "execution_count": null,
      "metadata": {
        "colab": {
          "base_uri": "https://localhost:8080/",
          "height": 250
        },
        "id": "ALSV27thTsUf",
        "outputId": "65991589-5cb1-45bd-99a1-934c656defc7"
      },
      "outputs": [
        {
          "output_type": "execute_result",
          "data": {
            "text/plain": [
              "   miles  passengers  delay inflight_meal inflight_entertainment  \\\n",
              "0    792         172      0            No                    Yes   \n",
              "1   3163         214      0            No                    Yes   \n",
              "2   1832         212      0            No                    Yes   \n",
              "3    925         213      0            No                    Yes   \n",
              "4    967         217      0           Yes                    Yes   \n",
              "\n",
              "  inflight_wifi day_of_week redeye weekend  coach_price  firstclass_price  \\\n",
              "0           Yes      Sunday    Yes     Yes      338.820           1571.02   \n",
              "1           Yes      Sunday     No     Yes      472.655           1663.70   \n",
              "2            No      Friday     No     Yes      351.960           1429.86   \n",
              "3           Yes    Saturday     No     Yes      387.835           1558.76   \n",
              "4           Yes      Monday     No      No      374.735           1245.58   \n",
              "\n",
              "   hours  \n",
              "0      1  \n",
              "1      6  \n",
              "2      3  \n",
              "3      2  \n",
              "4      2  "
            ],
            "text/html": [
              "\n",
              "  <div id=\"df-5f914a15-4676-4393-911e-cde898fffc60\">\n",
              "    <div class=\"colab-df-container\">\n",
              "      <div>\n",
              "<style scoped>\n",
              "    .dataframe tbody tr th:only-of-type {\n",
              "        vertical-align: middle;\n",
              "    }\n",
              "\n",
              "    .dataframe tbody tr th {\n",
              "        vertical-align: top;\n",
              "    }\n",
              "\n",
              "    .dataframe thead th {\n",
              "        text-align: right;\n",
              "    }\n",
              "</style>\n",
              "<table border=\"1\" class=\"dataframe\">\n",
              "  <thead>\n",
              "    <tr style=\"text-align: right;\">\n",
              "      <th></th>\n",
              "      <th>miles</th>\n",
              "      <th>passengers</th>\n",
              "      <th>delay</th>\n",
              "      <th>inflight_meal</th>\n",
              "      <th>inflight_entertainment</th>\n",
              "      <th>inflight_wifi</th>\n",
              "      <th>day_of_week</th>\n",
              "      <th>redeye</th>\n",
              "      <th>weekend</th>\n",
              "      <th>coach_price</th>\n",
              "      <th>firstclass_price</th>\n",
              "      <th>hours</th>\n",
              "    </tr>\n",
              "  </thead>\n",
              "  <tbody>\n",
              "    <tr>\n",
              "      <th>0</th>\n",
              "      <td>792</td>\n",
              "      <td>172</td>\n",
              "      <td>0</td>\n",
              "      <td>No</td>\n",
              "      <td>Yes</td>\n",
              "      <td>Yes</td>\n",
              "      <td>Sunday</td>\n",
              "      <td>Yes</td>\n",
              "      <td>Yes</td>\n",
              "      <td>338.820</td>\n",
              "      <td>1571.02</td>\n",
              "      <td>1</td>\n",
              "    </tr>\n",
              "    <tr>\n",
              "      <th>1</th>\n",
              "      <td>3163</td>\n",
              "      <td>214</td>\n",
              "      <td>0</td>\n",
              "      <td>No</td>\n",
              "      <td>Yes</td>\n",
              "      <td>Yes</td>\n",
              "      <td>Sunday</td>\n",
              "      <td>No</td>\n",
              "      <td>Yes</td>\n",
              "      <td>472.655</td>\n",
              "      <td>1663.70</td>\n",
              "      <td>6</td>\n",
              "    </tr>\n",
              "    <tr>\n",
              "      <th>2</th>\n",
              "      <td>1832</td>\n",
              "      <td>212</td>\n",
              "      <td>0</td>\n",
              "      <td>No</td>\n",
              "      <td>Yes</td>\n",
              "      <td>No</td>\n",
              "      <td>Friday</td>\n",
              "      <td>No</td>\n",
              "      <td>Yes</td>\n",
              "      <td>351.960</td>\n",
              "      <td>1429.86</td>\n",
              "      <td>3</td>\n",
              "    </tr>\n",
              "    <tr>\n",
              "      <th>3</th>\n",
              "      <td>925</td>\n",
              "      <td>213</td>\n",
              "      <td>0</td>\n",
              "      <td>No</td>\n",
              "      <td>Yes</td>\n",
              "      <td>Yes</td>\n",
              "      <td>Saturday</td>\n",
              "      <td>No</td>\n",
              "      <td>Yes</td>\n",
              "      <td>387.835</td>\n",
              "      <td>1558.76</td>\n",
              "      <td>2</td>\n",
              "    </tr>\n",
              "    <tr>\n",
              "      <th>4</th>\n",
              "      <td>967</td>\n",
              "      <td>217</td>\n",
              "      <td>0</td>\n",
              "      <td>Yes</td>\n",
              "      <td>Yes</td>\n",
              "      <td>Yes</td>\n",
              "      <td>Monday</td>\n",
              "      <td>No</td>\n",
              "      <td>No</td>\n",
              "      <td>374.735</td>\n",
              "      <td>1245.58</td>\n",
              "      <td>2</td>\n",
              "    </tr>\n",
              "  </tbody>\n",
              "</table>\n",
              "</div>\n",
              "      <button class=\"colab-df-convert\" onclick=\"convertToInteractive('df-5f914a15-4676-4393-911e-cde898fffc60')\"\n",
              "              title=\"Convert this dataframe to an interactive table.\"\n",
              "              style=\"display:none;\">\n",
              "        \n",
              "  <svg xmlns=\"http://www.w3.org/2000/svg\" height=\"24px\"viewBox=\"0 0 24 24\"\n",
              "       width=\"24px\">\n",
              "    <path d=\"M0 0h24v24H0V0z\" fill=\"none\"/>\n",
              "    <path d=\"M18.56 5.44l.94 2.06.94-2.06 2.06-.94-2.06-.94-.94-2.06-.94 2.06-2.06.94zm-11 1L8.5 8.5l.94-2.06 2.06-.94-2.06-.94L8.5 2.5l-.94 2.06-2.06.94zm10 10l.94 2.06.94-2.06 2.06-.94-2.06-.94-.94-2.06-.94 2.06-2.06.94z\"/><path d=\"M17.41 7.96l-1.37-1.37c-.4-.4-.92-.59-1.43-.59-.52 0-1.04.2-1.43.59L10.3 9.45l-7.72 7.72c-.78.78-.78 2.05 0 2.83L4 21.41c.39.39.9.59 1.41.59.51 0 1.02-.2 1.41-.59l7.78-7.78 2.81-2.81c.8-.78.8-2.07 0-2.86zM5.41 20L4 18.59l7.72-7.72 1.47 1.35L5.41 20z\"/>\n",
              "  </svg>\n",
              "      </button>\n",
              "      \n",
              "  <style>\n",
              "    .colab-df-container {\n",
              "      display:flex;\n",
              "      flex-wrap:wrap;\n",
              "      gap: 12px;\n",
              "    }\n",
              "\n",
              "    .colab-df-convert {\n",
              "      background-color: #E8F0FE;\n",
              "      border: none;\n",
              "      border-radius: 50%;\n",
              "      cursor: pointer;\n",
              "      display: none;\n",
              "      fill: #1967D2;\n",
              "      height: 32px;\n",
              "      padding: 0 0 0 0;\n",
              "      width: 32px;\n",
              "    }\n",
              "\n",
              "    .colab-df-convert:hover {\n",
              "      background-color: #E2EBFA;\n",
              "      box-shadow: 0px 1px 2px rgba(60, 64, 67, 0.3), 0px 1px 3px 1px rgba(60, 64, 67, 0.15);\n",
              "      fill: #174EA6;\n",
              "    }\n",
              "\n",
              "    [theme=dark] .colab-df-convert {\n",
              "      background-color: #3B4455;\n",
              "      fill: #D2E3FC;\n",
              "    }\n",
              "\n",
              "    [theme=dark] .colab-df-convert:hover {\n",
              "      background-color: #434B5C;\n",
              "      box-shadow: 0px 1px 3px 1px rgba(0, 0, 0, 0.15);\n",
              "      filter: drop-shadow(0px 1px 2px rgba(0, 0, 0, 0.3));\n",
              "      fill: #FFFFFF;\n",
              "    }\n",
              "  </style>\n",
              "\n",
              "      <script>\n",
              "        const buttonEl =\n",
              "          document.querySelector('#df-5f914a15-4676-4393-911e-cde898fffc60 button.colab-df-convert');\n",
              "        buttonEl.style.display =\n",
              "          google.colab.kernel.accessAllowed ? 'block' : 'none';\n",
              "\n",
              "        async function convertToInteractive(key) {\n",
              "          const element = document.querySelector('#df-5f914a15-4676-4393-911e-cde898fffc60');\n",
              "          const dataTable =\n",
              "            await google.colab.kernel.invokeFunction('convertToInteractive',\n",
              "                                                     [key], {});\n",
              "          if (!dataTable) return;\n",
              "\n",
              "          const docLinkHtml = 'Like what you see? Visit the ' +\n",
              "            '<a target=\"_blank\" href=https://colab.research.google.com/notebooks/data_table.ipynb>data table notebook</a>'\n",
              "            + ' to learn more about interactive tables.';\n",
              "          element.innerHTML = '';\n",
              "          dataTable['output_type'] = 'display_data';\n",
              "          await google.colab.output.renderOutput(dataTable, element);\n",
              "          const docLink = document.createElement('div');\n",
              "          docLink.innerHTML = docLinkHtml;\n",
              "          element.appendChild(docLink);\n",
              "        }\n",
              "      </script>\n",
              "    </div>\n",
              "  </div>\n",
              "  "
            ]
          },
          "metadata": {},
          "execution_count": 2
        }
      ],
      "source": [
        "import pandas as pd\n",
        "import numpy as np\n",
        "import seaborn as sns\n",
        "import statsmodels\n",
        "import matplotlib.pyplot as plt\n",
        "import math\n",
        "\n",
        "## Read in Data\n",
        "flight = pd.read_csv(\"flight.csv\")\n",
        "flight.head()"
      ]
    },
    {
      "cell_type": "code",
      "source": [
        "max = np.round(flight['coach_price'].max(), 2)\n",
        "min = np.round(flight['coach_price'].min(), 2)\n",
        "mean = np.round(flight['coach_price'].mean(), 2)\n",
        "median = np.round(flight['coach_price'].median(), 2)\n",
        "sigma = np.round(flight['coach_price'].std(), 2)\n",
        "mode = np.round(flight['coach_price'].mode(), 2)"
      ],
      "metadata": {
        "id": "paJPRvaSUWIx"
      },
      "execution_count": null,
      "outputs": []
    },
    {
      "cell_type": "code",
      "source": [],
      "metadata": {
        "colab": {
          "base_uri": "https://localhost:8080/"
        },
        "id": "oXxywfH7WigI",
        "outputId": "3f01682d-5cee-4b4f-f301-4057d69f47ec"
      },
      "execution_count": null,
      "outputs": [
        {
          "output_type": "stream",
          "name": "stdout",
          "text": [
            "max: 593.64\n",
            "min: 44.42\n",
            "mean: 376.59\n",
            "median: 380.56\n",
            "mode: 361.53\n",
            "sigma: 67.74\n"
          ]
        }
      ]
    },
    {
      "cell_type": "code",
      "source": [
        "sns.histplot(flight['coach_price'])"
      ],
      "metadata": {
        "colab": {
          "base_uri": "https://localhost:8080/",
          "height": 297
        },
        "id": "_EqKqKwKV2IZ",
        "outputId": "01a615dd-1e9f-4ed8-ba28-84bfc9d6d51b"
      },
      "execution_count": 43,
      "outputs": [
        {
          "output_type": "execute_result",
          "data": {
            "text/plain": [
              "<matplotlib.axes._subplots.AxesSubplot at 0x7fde16f90490>"
            ]
          },
          "metadata": {},
          "execution_count": 43
        },
        {
          "output_type": "display_data",
          "data": {
            "text/plain": [
              "<Figure size 432x288 with 1 Axes>"
            ],
            "image/png": "[encoded data removed]"
          },
          "metadata": {
            "needs_background": "light"
          }
        }
      ]
    },
    {
      "cell_type": "code",
      "source": [
        "print(f'max: {max}\\nmin: {min}\\nmean: {mean}\\nmedian: {median}\\nmode: {mode[0]}\\nsigma: {sigma}')"
      ],
      "metadata": {
        "colab": {
          "base_uri": "https://localhost:8080/"
        },
        "id": "wvPxyQEBw8LR",
        "outputId": "6349ad00-1795-438d-abc9-d121519b9505"
      },
      "execution_count": 46,
      "outputs": [
        {
          "output_type": "stream",
          "name": "stdout",
          "text": [
            "max: 593.64\n",
            "min: 44.42\n",
            "mean: 376.59\n",
            "median: 380.56\n",
            "mode: 361.53\n",
            "sigma: 67.74\n"
          ]
        }
      ]
    },
    {
      "cell_type": "markdown",
      "source": [
        "The price of 500$ for a coach ticket seems a too high considering all flights. The price is located farther thatn "
      ],
      "metadata": {
        "id": "oHKfWYUgw-ox"
      }
    },
    {
      "cell_type": "markdown",
      "metadata": {
        "id": "tm1ohIqjTsUg"
      },
      "source": [
        "2. Now visualize the coach ticket prices for flights that are 8 hours long. What are the high, low, and average prices for 8-hour-long flights? Does a $500 dollar ticket seem more reasonable than before?"
      ]
    },
    {
      "cell_type": "code",
      "source": [
        "long_flight = flight[flight['hours']==8]['coach_price']\n",
        "max_8_hr = np.round(long_flight.max(), 2)\n",
        "min_8_hr = np.round(long_flight.min(), 2)\n",
        "mean_8_hr = np.round(long_flight.mean(), 2)\n",
        "median_8_hr = np.round(long_flight.median(), 2)\n",
        "mode_8_hr = np.round(long_flight.mode(), 2)\n",
        "std_8_hr = np.round(long_flight.std(), 2)"
      ],
      "metadata": {
        "id": "uIe4i2nkX7QK"
      },
      "execution_count": null,
      "outputs": []
    },
    {
      "cell_type": "code",
      "execution_count": 44,
      "metadata": {
        "colab": {
          "base_uri": "https://localhost:8080/",
          "height": 297
        },
        "id": "Kc__VDQMTsUg",
        "outputId": "ec6178d4-cedf-4edc-d688-32f1d3cf531b"
      },
      "outputs": [
        {
          "output_type": "execute_result",
          "data": {
            "text/plain": [
              "<matplotlib.axes._subplots.AxesSubplot at 0x7fde16da42b0>"
            ]
          },
          "metadata": {},
          "execution_count": 44
        },
        {
          "output_type": "display_data",
          "data": {
            "text/plain": [
              "<Figure size 432x288 with 1 Axes>"
            ],
            "image/png": "[encoded data removed]"
          },
          "metadata": {
            "needs_background": "light"
          }
        }
      ],
      "source": [
        "sns.histplot(flight[flight['hours'] == 8]['coach_price'])"
      ]
    },
    {
      "cell_type": "code",
      "source": [
        "print(f'max: {max_8_hr}\\nmin: {min_8_hr}\\nmean: {mean_8_hr}\\nmedian: {median_8_hr}\\nmode: {mode_8_hr[0]}\\nstd: {std_8_hr}')"
      ],
      "metadata": {
        "colab": {
          "base_uri": "https://localhost:8080/"
        },
        "id": "_-dxuY84wtUY",
        "outputId": "f18a23fc-67b8-4311-ef1d-93ad399b2a25"
      },
      "execution_count": 45,
      "outputs": [
        {
          "output_type": "stream",
          "name": "stdout",
          "text": [
            "max: 593.64\n",
            "min: 170.77\n",
            "mean: 431.83\n",
            "median: 437.12\n",
            "mode: 489.82\n",
            "std: 64.08\n"
          ]
        }
      ]
    },
    {
      "cell_type": "markdown",
      "source": [
        "The price of 500USD for a coach ticket seems more reasonable for an 8-hours flight. It doesnt seem overpriced, since 500USD is located closer to the mean."
      ],
      "metadata": {
        "id": "LJVoT3rxwwKp"
      }
    },
    {
      "cell_type": "markdown",
      "metadata": {
        "id": "DxnVAP4QTsUg"
      },
      "source": [
        "3. How are flight delay times distributed? Let's say there is a short amount of time between two connecting flights, and a flight delay would put the client at risk of missing their connecting flight. You want to better understand how often there are large delays so you can correctly set up connecting flights. What kinds of delays are typical?"
      ]
    },
    {
      "cell_type": "code",
      "execution_count": 47,
      "metadata": {
        "id": "SyAtn8haTsUh"
      },
      "outputs": [],
      "source": [
        "delay = flight[flight['delay']<500]['delay']"
      ]
    },
    {
      "cell_type": "code",
      "source": [
        "d_mean = np.round(delay.mean(), 2)\n",
        "d_median = np.round(delay.median(), 2)\n",
        "d_mode = np.round(delay.mode(), 2)\n",
        "d_std = np.round(delay.std(), 2)\n",
        "print(f'mean: {d_mean}\\nmedian: {d_median}\\nmode:{d_mode[0]}\\nstd:{d_std}')"
      ],
      "metadata": {
        "colab": {
          "base_uri": "https://localhost:8080/"
        },
        "id": "E5UVAEMlZU4R",
        "outputId": "c9a685e4-210c-492e-e7d8-d041b7a4161b"
      },
      "execution_count": 48,
      "outputs": [
        {
          "output_type": "stream",
          "name": "stdout",
          "text": [
            "mean: 12.02\n",
            "median: 10.0\n",
            "mode:10\n",
            "std:7.79\n"
          ]
        }
      ]
    },
    {
      "cell_type": "code",
      "source": [
        "sns.histplot(delay)"
      ],
      "metadata": {
        "colab": {
          "base_uri": "https://localhost:8080/",
          "height": 296
        },
        "id": "Gcmk-qzgfRcB",
        "outputId": "0a658693-f97d-4012-8b6c-1bc34a807065"
      },
      "execution_count": 50,
      "outputs": [
        {
          "output_type": "execute_result",
          "data": {
            "text/plain": [
              "<matplotlib.axes._subplots.AxesSubplot at 0x7fde14fc0bb0>"
            ]
          },
          "metadata": {},
          "execution_count": 50
        },
        {
          "output_type": "display_data",
          "data": {
            "text/plain": [
              "<Figure size 432x288 with 1 Axes>"
            ],
            "image/png": "[encoded data removed]"
          },
          "metadata": {
            "needs_background": "light"
          }
        }
      ]
    },
    {
      "cell_type": "markdown",
      "metadata": {
        "id": "YLJX-OkfTsUh"
      },
      "source": [
        "## Bivariate Analysis"
      ]
    },
    {
      "cell_type": "markdown",
      "metadata": {
        "id": "iBwvw7qQTsUh"
      },
      "source": [
        "4. Create a visualization that shows the relationship between coach and first-class prices. What is the relationship between these two prices? Do flights with higher coach prices always have higher first-class prices as well?"
      ]
    },
    {
      "cell_type": "code",
      "execution_count": null,
      "metadata": {
        "id": "D1EGkuajTsUh"
      },
      "outputs": [],
      "source": [
        "flight_sample = flight.sample(500)"
      ]
    },
    {
      "cell_type": "code",
      "source": [
        "sns.lmplot(data=flight_sample, x='coach_price', y='firstclass_price', lowess=True, line_kws={'color': 'black'})"
      ],
      "metadata": {
        "colab": {
          "base_uri": "https://localhost:8080/",
          "height": 386
        },
        "id": "ZPALZfqwiSVR",
        "outputId": "1e5fda87-235b-4f5b-e379-562765319f57"
      },
      "execution_count": 67,
      "outputs": [
        {
          "output_type": "execute_result",
          "data": {
            "text/plain": [
              "<seaborn.axisgrid.FacetGrid at 0x7fde13f4cca0>"
            ]
          },
          "metadata": {},
          "execution_count": 67
        },
        {
          "output_type": "display_data",
          "data": {
            "text/plain": [
              "<Figure size 360x360 with 1 Axes>"
            ],
            "image/png": "[encoded data removed]"
          },
          "metadata": {
            "needs_background": "light"
          }
        }
      ]
    },
    {
      "cell_type": "markdown",
      "source": [
        "Flights with higher coach prices have higher first class prices."
      ],
      "metadata": {
        "id": "ZOQxMS7GipJp"
      }
    },
    {
      "cell_type": "markdown",
      "metadata": {
        "id": "qu_SKK6TTsUh"
      },
      "source": [
        "5. What is the relationship between coach prices and inflight features &mdash; inflight meal, inflight entertainment, and inflight WiFi? Which features are associated with the highest increase in price?"
      ]
    },
    {
      "cell_type": "code",
      "source": [
        "flight_sample.head()"
      ],
      "metadata": {
        "colab": {
          "base_uri": "https://localhost:8080/",
          "height": 270
        },
        "id": "Ufu9ftJ4tMf4",
        "outputId": "53c51974-5207-40df-b642-7de42a969221"
      },
      "execution_count": null,
      "outputs": [
        {
          "output_type": "execute_result",
          "data": {
            "text/plain": [
              "        miles  passengers  delay inflight_meal inflight_entertainment  \\\n",
              "118751    825         210     26           Yes                    Yes   \n",
              "66670    1325         202     12           Yes                    Yes   \n",
              "32103    4266         214     10           Yes                    Yes   \n",
              "71380    1436         214     12            No                    Yes   \n",
              "86931    1861         207     10           Yes                    Yes   \n",
              "\n",
              "       inflight_wifi day_of_week redeye weekend  coach_price  \\\n",
              "118751           Yes      Friday     No     Yes      410.915   \n",
              "66670            Yes      Sunday     No     Yes      468.565   \n",
              "32103             No   Wednesday     No      No      378.510   \n",
              "71380            Yes      Sunday     No     Yes      408.390   \n",
              "86931            Yes    Saturday     No     Yes      448.935   \n",
              "\n",
              "        firstclass_price  hours  \n",
              "118751           1554.09      2  \n",
              "66670            1545.20      2  \n",
              "32103            1403.45      8  \n",
              "71380            1594.11      3  \n",
              "86931            1576.87      3  "
            ],
            "text/html": [
              "\n",
              "  <div id=\"df-1f4c6878-5367-4efe-9989-1bcd6be1feea\">\n",
              "    <div class=\"colab-df-container\">\n",
              "      <div>\n",
              "<style scoped>\n",
              "    .dataframe tbody tr th:only-of-type {\n",
              "        vertical-align: middle;\n",
              "    }\n",
              "\n",
              "    .dataframe tbody tr th {\n",
              "        vertical-align: top;\n",
              "    }\n",
              "\n",
              "    .dataframe thead th {\n",
              "        text-align: right;\n",
              "    }\n",
              "</style>\n",
              "<table border=\"1\" class=\"dataframe\">\n",
              "  <thead>\n",
              "    <tr style=\"text-align: right;\">\n",
              "      <th></th>\n",
              "      <th>miles</th>\n",
              "      <th>passengers</th>\n",
              "      <th>delay</th>\n",
              "      <th>inflight_meal</th>\n",
              "      <th>inflight_entertainment</th>\n",
              "      <th>inflight_wifi</th>\n",
              "      <th>day_of_week</th>\n",
              "      <th>redeye</th>\n",
              "      <th>weekend</th>\n",
              "      <th>coach_price</th>\n",
              "      <th>firstclass_price</th>\n",
              "      <th>hours</th>\n",
              "    </tr>\n",
              "  </thead>\n",
              "  <tbody>\n",
              "    <tr>\n",
              "      <th>118751</th>\n",
              "      <td>825</td>\n",
              "      <td>210</td>\n",
              "      <td>26</td>\n",
              "      <td>Yes</td>\n",
              "      <td>Yes</td>\n",
              "      <td>Yes</td>\n",
              "      <td>Friday</td>\n",
              "      <td>No</td>\n",
              "      <td>Yes</td>\n",
              "      <td>410.915</td>\n",
              "      <td>1554.09</td>\n",
              "      <td>2</td>\n",
              "    </tr>\n",
              "    <tr>\n",
              "      <th>66670</th>\n",
              "      <td>1325</td>\n",
              "      <td>202</td>\n",
              "      <td>12</td>\n",
              "      <td>Yes</td>\n",
              "      <td>Yes</td>\n",
              "      <td>Yes</td>\n",
              "      <td>Sunday</td>\n",
              "      <td>No</td>\n",
              "      <td>Yes</td>\n",
              "      <td>468.565</td>\n",
              "      <td>1545.20</td>\n",
              "      <td>2</td>\n",
              "    </tr>\n",
              "    <tr>\n",
              "      <th>32103</th>\n",
              "      <td>4266</td>\n",
              "      <td>214</td>\n",
              "      <td>10</td>\n",
              "      <td>Yes</td>\n",
              "      <td>Yes</td>\n",
              "      <td>No</td>\n",
              "      <td>Wednesday</td>\n",
              "      <td>No</td>\n",
              "      <td>No</td>\n",
              "      <td>378.510</td>\n",
              "      <td>1403.45</td>\n",
              "      <td>8</td>\n",
              "    </tr>\n",
              "    <tr>\n",
              "      <th>71380</th>\n",
              "      <td>1436</td>\n",
              "      <td>214</td>\n",
              "      <td>12</td>\n",
              "      <td>No</td>\n",
              "      <td>Yes</td>\n",
              "      <td>Yes</td>\n",
              "      <td>Sunday</td>\n",
              "      <td>No</td>\n",
              "      <td>Yes</td>\n",
              "      <td>408.390</td>\n",
              "      <td>1594.11</td>\n",
              "      <td>3</td>\n",
              "    </tr>\n",
              "    <tr>\n",
              "      <th>86931</th>\n",
              "      <td>1861</td>\n",
              "      <td>207</td>\n",
              "      <td>10</td>\n",
              "      <td>Yes</td>\n",
              "      <td>Yes</td>\n",
              "      <td>Yes</td>\n",
              "      <td>Saturday</td>\n",
              "      <td>No</td>\n",
              "      <td>Yes</td>\n",
              "      <td>448.935</td>\n",
              "      <td>1576.87</td>\n",
              "      <td>3</td>\n",
              "    </tr>\n",
              "  </tbody>\n",
              "</table>\n",
              "</div>\n",
              "      <button class=\"colab-df-convert\" onclick=\"convertToInteractive('df-1f4c6878-5367-4efe-9989-1bcd6be1feea')\"\n",
              "              title=\"Convert this dataframe to an interactive table.\"\n",
              "              style=\"display:none;\">\n",
              "        \n",
              "  <svg xmlns=\"http://www.w3.org/2000/svg\" height=\"24px\"viewBox=\"0 0 24 24\"\n",
              "       width=\"24px\">\n",
              "    <path d=\"M0 0h24v24H0V0z\" fill=\"none\"/>\n",
              "    <path d=\"M18.56 5.44l.94 2.06.94-2.06 2.06-.94-2.06-.94-.94-2.06-.94 2.06-2.06.94zm-11 1L8.5 8.5l.94-2.06 2.06-.94-2.06-.94L8.5 2.5l-.94 2.06-2.06.94zm10 10l.94 2.06.94-2.06 2.06-.94-2.06-.94-.94-2.06-.94 2.06-2.06.94z\"/><path d=\"M17.41 7.96l-1.37-1.37c-.4-.4-.92-.59-1.43-.59-.52 0-1.04.2-1.43.59L10.3 9.45l-7.72 7.72c-.78.78-.78 2.05 0 2.83L4 21.41c.39.39.9.59 1.41.59.51 0 1.02-.2 1.41-.59l7.78-7.78 2.81-2.81c.8-.78.8-2.07 0-2.86zM5.41 20L4 18.59l7.72-7.72 1.47 1.35L5.41 20z\"/>\n",
              "  </svg>\n",
              "      </button>\n",
              "      \n",
              "  <style>\n",
              "    .colab-df-container {\n",
              "      display:flex;\n",
              "      flex-wrap:wrap;\n",
              "      gap: 12px;\n",
              "    }\n",
              "\n",
              "    .colab-df-convert {\n",
              "      background-color: #E8F0FE;\n",
              "      border: none;\n",
              "      border-radius: 50%;\n",
              "      cursor: pointer;\n",
              "      display: none;\n",
              "      fill: #1967D2;\n",
              "      height: 32px;\n",
              "      padding: 0 0 0 0;\n",
              "      width: 32px;\n",
              "    }\n",
              "\n",
              "    .colab-df-convert:hover {\n",
              "      background-color: #E2EBFA;\n",
              "      box-shadow: 0px 1px 2px rgba(60, 64, 67, 0.3), 0px 1px 3px 1px rgba(60, 64, 67, 0.15);\n",
              "      fill: #174EA6;\n",
              "    }\n",
              "\n",
              "    [theme=dark] .colab-df-convert {\n",
              "      background-color: #3B4455;\n",
              "      fill: #D2E3FC;\n",
              "    }\n",
              "\n",
              "    [theme=dark] .colab-df-convert:hover {\n",
              "      background-color: #434B5C;\n",
              "      box-shadow: 0px 1px 3px 1px rgba(0, 0, 0, 0.15);\n",
              "      filter: drop-shadow(0px 1px 2px rgba(0, 0, 0, 0.3));\n",
              "      fill: #FFFFFF;\n",
              "    }\n",
              "  </style>\n",
              "\n",
              "      <script>\n",
              "        const buttonEl =\n",
              "          document.querySelector('#df-1f4c6878-5367-4efe-9989-1bcd6be1feea button.colab-df-convert');\n",
              "        buttonEl.style.display =\n",
              "          google.colab.kernel.accessAllowed ? 'block' : 'none';\n",
              "\n",
              "        async function convertToInteractive(key) {\n",
              "          const element = document.querySelector('#df-1f4c6878-5367-4efe-9989-1bcd6be1feea');\n",
              "          const dataTable =\n",
              "            await google.colab.kernel.invokeFunction('convertToInteractive',\n",
              "                                                     [key], {});\n",
              "          if (!dataTable) return;\n",
              "\n",
              "          const docLinkHtml = 'Like what you see? Visit the ' +\n",
              "            '<a target=\"_blank\" href=https://colab.research.google.com/notebooks/data_table.ipynb>data table notebook</a>'\n",
              "            + ' to learn more about interactive tables.';\n",
              "          element.innerHTML = '';\n",
              "          dataTable['output_type'] = 'display_data';\n",
              "          await google.colab.output.renderOutput(dataTable, element);\n",
              "          const docLink = document.createElement('div');\n",
              "          docLink.innerHTML = docLinkHtml;\n",
              "          element.appendChild(docLink);\n",
              "        }\n",
              "      </script>\n",
              "    </div>\n",
              "  </div>\n",
              "  "
            ]
          },
          "metadata": {},
          "execution_count": 22
        }
      ]
    },
    {
      "cell_type": "code",
      "execution_count": 57,
      "metadata": {
        "colab": {
          "base_uri": "https://localhost:8080/",
          "height": 823
        },
        "id": "PkrK3zfqTsUi",
        "outputId": "464ddc12-2f0a-4802-ce01-207493ef2838"
      },
      "outputs": [
        {
          "output_type": "display_data",
          "data": {
            "text/plain": [
              "<Figure size 432x288 with 1 Axes>"
            ],
            "image/png": "[encoded data removed]"
          },
          "metadata": {
            "needs_background": "light"
          }
        },
        {
          "output_type": "display_data",
          "data": {
            "text/plain": [
              "<Figure size 432x288 with 1 Axes>"
            ],
            "image/png": "[encoded data removed]"
          },
          "metadata": {
            "needs_background": "light"
          }
        },
        {
          "output_type": "display_data",
          "data": {
            "text/plain": [
              "<Figure size 432x288 with 1 Axes>"
            ],
            "image/png": "[encoded data removed]"
          },
          "metadata": {
            "needs_background": "light"
          }
        },
        {
          "output_type": "display_data",
          "data": {
            "text/plain": [
              "<Figure size 432x288 with 0 Axes>"
            ]
          },
          "metadata": {}
        }
      ],
      "source": [
        "sns.histplot(data=flight_sample, x='coach_price', hue='inflight_meal')\n",
        "plt.show()\n",
        "plt.clf()\n",
        "sns.histplot(data=flight_sample, x='coach_price', hue='inflight_entertainment')\n",
        "plt.show()\n",
        "plt.clf()\n",
        "sns.histplot(data=flight_sample, x='coach_price', hue='inflight_wifi')\n",
        "plt.show()\n",
        "plt.clf()"
      ]
    },
    {
      "cell_type": "markdown",
      "metadata": {
        "id": "JlDBi9z9TsUi"
      },
      "source": [
        "6. How does the number of passengers change in relation to the length of flights?"
      ]
    },
    {
      "cell_type": "code",
      "execution_count": 63,
      "metadata": {
        "colab": {
          "base_uri": "https://localhost:8080/",
          "height": 296
        },
        "id": "qTlL_gMhTsUi",
        "outputId": "c270665d-99c8-4922-e46c-35f8ad2fbc8b"
      },
      "outputs": [
        {
          "output_type": "execute_result",
          "data": {
            "text/plain": [
              "<matplotlib.axes._subplots.AxesSubplot at 0x7fde13ff20a0>"
            ]
          },
          "metadata": {},
          "execution_count": 63
        },
        {
          "output_type": "display_data",
          "data": {
            "text/plain": [
              "<Figure size 432x288 with 1 Axes>"
            ],
            "image/png": "[encoded data removed]"
          },
          "metadata": {
            "needs_background": "light"
          }
        }
      ],
      "source": [
        "## Task 6\n",
        "sns.scatterplot(data=flight_sample, x='hours', y='passengers', x_jitter = 0.25)\n"
      ]
    },
    {
      "cell_type": "markdown",
      "metadata": {
        "id": "qxwjRnH5TsUi"
      },
      "source": [
        "## Multivariate Analysis"
      ]
    },
    {
      "cell_type": "markdown",
      "metadata": {
        "id": "bb7N0vXTTsUi"
      },
      "source": [
        "7. Visualize the relationship between coach and first-class prices on weekends compared to weekdays."
      ]
    },
    {
      "cell_type": "code",
      "execution_count": 64,
      "metadata": {
        "colab": {
          "base_uri": "https://localhost:8080/",
          "height": 386
        },
        "id": "ztdqjCJPTsUi",
        "outputId": "fe44aa61-25d5-42f3-c56e-61dd17ff4bf4"
      },
      "outputs": [
        {
          "output_type": "execute_result",
          "data": {
            "text/plain": [
              "<seaborn.axisgrid.FacetGrid at 0x7fde14889ac0>"
            ]
          },
          "metadata": {},
          "execution_count": 64
        },
        {
          "output_type": "display_data",
          "data": {
            "text/plain": [
              "<Figure size 412.625x360 with 1 Axes>"
            ],
            "image/png": "[encoded data removed]"
          },
          "metadata": {
            "needs_background": "light"
          }
        }
      ],
      "source": [
        "## Task 7\n",
        "sns.lmplot(x = 'coach_price', y = 'firstclass_price', hue = 'weekend', data = flight_sample, fit_reg=False)"
      ]
    },
    {
      "cell_type": "markdown",
      "metadata": {
        "id": "2zrLVlktTsUi"
      },
      "source": [
        "8. How do coach prices differ for redeyes and non-redeyes on each day of the week?"
      ]
    },
    {
      "cell_type": "code",
      "execution_count": 65,
      "metadata": {
        "id": "4v-I71iVTsUi",
        "colab": {
          "base_uri": "https://localhost:8080/",
          "height": 297
        },
        "outputId": "11d4c55d-40d4-4114-9261-88670411d580"
      },
      "outputs": [
        {
          "output_type": "execute_result",
          "data": {
            "text/plain": [
              "<matplotlib.axes._subplots.AxesSubplot at 0x7fde13f50a90>"
            ]
          },
          "metadata": {},
          "execution_count": 65
        },
        {
          "output_type": "display_data",
          "data": {
            "text/plain": [
              "<Figure size 432x288 with 1 Axes>"
            ],
            "image/png": "[encoded data removed]"
          },
          "metadata": {
            "needs_background": "light"
          }
        }
      ],
      "source": [
        "sns.boxplot(x = \"day_of_week\", y = \"coach_price\", hue = \"redeye\", data = flight)"
      ]
    }
  ],
  "metadata": {
    "kernelspec": {
      "display_name": "Python 3 (ipykernel)",
      "language": "python",
      "name": "python3"
    },
    "language_info": {
      "codemirror_mode": {
        "name": "ipython",
        "version": 3
      },
      "file_extension": ".py",
      "mimetype": "text/x-python",
      "name": "python",
      "nbconvert_exporter": "python",
      "pygments_lexer": "ipython3",
      "version": "3.7.11"
    },
    "colab": {
      "provenance": []
    }
  },
  "nbformat": 4,
  "nbformat_minor": 0
}